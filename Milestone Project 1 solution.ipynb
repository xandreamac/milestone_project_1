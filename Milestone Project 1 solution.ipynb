{
 "cells": [
  {
   "cell_type": "markdown",
   "metadata": {},
   "source": [
    "# Tic Tac Toe Game solution"
   ]
  },
  {
   "cell_type": "code",
   "execution_count": null,
   "metadata": {
    "collapsed": false
   },
   "outputs": [
    {
     "name": "stdout",
     "output_type": "stream",
     "text": [
      "Welcome to my Tic Tac Toe Game\n",
      "\n",
      "\n",
      "\n",
      "\n",
      "\n",
      "It's the turn of the player 1\n",
      "\n"
     ]
    }
   ],
   "source": [
    "# Start my game\n",
    "\n",
    "from IPython.display import clear_output\n",
    "\n",
    "# set the variables outsite the loop\n",
    "turn = 1\n",
    "eog = 0\n",
    "#x = 0\n",
    "marker1 = 'X'\n",
    "marker2 = 'O'\n",
    "\n",
    "board = [['___','___','___'],['___','___','___'],['   ','   ','   ']]\n",
    "board2 = [['','',''],['','',''],['','','']]\n",
    "\n",
    "# define the function to print the board on the screen\n",
    "def board_on_screen():\n",
    "    '''\n",
    "    This is a function to print the board on the screen\n",
    "    '''\n",
    "    print '\\n'\n",
    "    clear_output()\n",
    "    print 'Welcome to my Tic Tac Toe Game\\n'\n",
    "    print '\\n'\n",
    "    \n",
    "    print board[0][0]+'|'+board[0][1]+'|'+board[0][2]\n",
    "    print board[1][0]+'|'+board[1][1]+'|'+board[1][2]\n",
    "    print board[2][0]+'|'+board[2][1]+'|'+board[2][2]\n",
    "        \n",
    "# define the function to print the board with marker after a move        \n",
    "def make_a_move(player):\n",
    "    cell = list(board[play_row][play_col]) \n",
    "    if player == 1:\n",
    "        cell[1] = marker1\n",
    "    else:\n",
    "        cell[1] = marker2\n",
    "    \n",
    "    board2[play_row][play_col] = cell[1]   \n",
    "    cell = cell[0]+cell[1]+cell[2]\n",
    "    board[play_row][play_col] = cell\n",
    "    board_on_screen()\n",
    "    \n",
    "# define the function to check the result on the board     \n",
    "def check_result():\n",
    "    eog = 0\n",
    "    x = 0\n",
    "    for row in board2:\n",
    "        for i in row:\n",
    "            if i == marker:\n",
    "                x+=1\n",
    "            else:\n",
    "                break\n",
    "        if x == 3:\n",
    "            if marker == 'X':\n",
    "                print 'The winner is the player 1'\n",
    "            else:\n",
    "                print 'The winner is the player 2'\n",
    "            eog = 1\n",
    "            break\n",
    "    return eog\n",
    "\n",
    "print 'Welcome to my Tic Tac Toe Game\\n'\n",
    "print '\\n'\n",
    "\n",
    "# start the while loop\n",
    "while eog == 0:\n",
    "    if turn % 2 != 0:\n",
    "        player = 1\n",
    "        marker = marker1\n",
    "    else:\n",
    "        player = 2\n",
    "        marker = marker2\n",
    "\n",
    "    print '\\n'        \n",
    "    print \"It's the turn of the player %s\\n\" %player\n",
    "    play_row = input('Give me the row: ')\n",
    "    play_col = input('Give me the column: ')\n",
    "    print '\\n'\n",
    "    \n",
    "    make_a_move(player)\n",
    "    \n",
    "    print '\\n'\n",
    "    eog = check_result()\n",
    "    \n",
    "    turn+=1\n",
    "\n",
    "    \n",
    "    \n",
    "    \n",
    "    \n",
    "    \n",
    "\n",
    "\n",
    "\n",
    "\n",
    "\n",
    "\n",
    "\n",
    "\n",
    "\n"
   ]
  },
  {
   "cell_type": "code",
   "execution_count": null,
   "metadata": {
    "collapsed": true
   },
   "outputs": [],
   "source": []
  }
 ],
 "metadata": {
  "kernelspec": {
   "display_name": "Python 2",
   "language": "python",
   "name": "python2"
  },
  "language_info": {
   "codemirror_mode": {
    "name": "ipython",
    "version": 2
   },
   "file_extension": ".py",
   "mimetype": "text/x-python",
   "name": "python",
   "nbconvert_exporter": "python",
   "pygments_lexer": "ipython2",
   "version": "2.7.10"
  }
 },
 "nbformat": 4,
 "nbformat_minor": 1
}
